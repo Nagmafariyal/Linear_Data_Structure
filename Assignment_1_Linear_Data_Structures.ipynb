{
  "cells": [
    {
      "cell_type": "markdown",
      "metadata": {
        "id": "view-in-github",
        "colab_type": "text"
      },
      "source": [
        "<a href=\"https://colab.research.google.com/github/Nagmafariyal/Linear_Data_Structure/blob/main/Assignment_1_Linear_Data_Structures.ipynb\" target=\"_parent\"><img src=\"https://colab.research.google.com/assets/colab-badge.svg\" alt=\"Open In Colab\"/></a>"
      ]
    },
    {
      "cell_type": "code",
      "execution_count": null,
      "metadata": {
        "id": "sA1skWT-YYr2",
        "outputId": "9319d7e9-1f91-43b1-9362-b854603a1d51"
      },
      "outputs": [
        {
          "name": "stdout",
          "output_type": "stream",
          "text": [
            "Target sum is 6\n",
            "Pairs of numbers that add up to the target sum: [(1, 5), (1, 5), (7, -1)]\n",
            "Count of pairs is 3\n"
          ]
        }
      ],
      "source": [
        "# 1.Write a program to find all pairs of an integer array whose sum is equal to a given number?\n",
        "def getPairsCount(arr, n, target_sum):\n",
        "    count = 0\n",
        " \n",
        "    # Using list comprehension to generate pairs of numbers that add up to target_sum\n",
        "    pairs = [(arr[i], arr[j]) for i in range(n) for j in range(i+1, n) if arr[i]+arr[j]==target_sum]\n",
        "               \n",
        "    print(\"Pairs of numbers that add up to the target sum:\", pairs)\n",
        " \n",
        "    return len(pairs)\n",
        " \n",
        "# Driver function\n",
        "arr = [1, 5, 7, -1, 5]\n",
        "n = len(arr)\n",
        "target_sum = 6\n",
        "print('Target sum is',target_sum)\n",
        "print(\"Count of pairs is\", getPairsCount(arr, n, target_sum))\n"
      ]
    },
    {
      "cell_type": "code",
      "execution_count": null,
      "metadata": {
        "id": "7M8Kf50SYYsH",
        "outputId": "4a75b511-979a-43f6-aa2b-01dc63a92050"
      },
      "outputs": [
        {
          "name": "stdout",
          "output_type": "stream",
          "text": [
            "reverse is [4, 3, 2, 1]\n",
            "[4, 3, 2, 1]\n"
          ]
        }
      ],
      "source": [
        "# Q2. Write a program to reverse an array in place? In place means you cannot create a new array.\n",
        "#  You have to update the original array.\n",
        "def fun(arr):\n",
        "    n=len(arr)\n",
        "    \n",
        "    for i in range(n//2):\n",
        "        arr[i],arr[n-i-1]=arr[n-i-1],arr[i]\n",
        "    return arr\n",
        "arr=[1,2,3,4]\n",
        "print('reverse is',fun(arr))\n",
        "print(arr)"
      ]
    },
    {
      "cell_type": "code",
      "execution_count": null,
      "metadata": {
        "id": "CdqbATDdYYsL",
        "outputId": "a0562bcb-4023-4a31-bad3-ca3c1b47abfd"
      },
      "outputs": [
        {
          "name": "stdout",
          "output_type": "stream",
          "text": [
            "Strings are rotations of each other\n"
          ]
        }
      ],
      "source": [
        "# Q3. Write a program to check if two strings are a rotation of each other?\n",
        "def is_reverse(str1,str2):\n",
        "    if(len(str1)!=len(str2)):\n",
        "        return False\n",
        "    else: \n",
        "        concat_string=str1+str1\n",
        "        if str2 in concat_string:\n",
        "            print(\"Strings are rotations of each other\")\n",
        "        else:\n",
        "            print(\"No Strings are rotations of each other\")\n",
        "str1=\"hello\"\n",
        "str2=\"llohe\"\n",
        "is_reverse(str1,str2)"
      ]
    },
    {
      "cell_type": "code",
      "execution_count": null,
      "metadata": {
        "id": "rXY2CWl-YYsO",
        "outputId": "55e97ba1-00cf-4aa5-b5c8-64b0652027bf"
      },
      "outputs": [
        {
          "name": "stdout",
          "output_type": "stream",
          "text": [
            "the entered string is= nagma\n",
            "First non-repeated character is: n\n"
          ]
        }
      ],
      "source": [
        "# Q4 Write a program to print the first non-repeated character from a string\n",
        "def first_occurence(str):\n",
        "    char_count={}\n",
        "    for char in str:\n",
        "        if char in char_count:\n",
        "            char_count[char]+=1\n",
        "        else:\n",
        "            char_count[char]=1\n",
        "    for char in str:\n",
        "        if char_count[char]==1:\n",
        "            return char\n",
        "    return None\n",
        "str= input('enter a string')\n",
        "print(\"the entered string is=\",str)\n",
        "res=first_occurence(str)\n",
        "if res:\n",
        "    print(\"First non-repeated character is:\", res)\n",
        "else:\n",
        "    print(\"No non-repeated characters found\")\n",
        "\n",
        "\n",
        "\n"
      ]
    },
    {
      "cell_type": "code",
      "execution_count": null,
      "metadata": {
        "id": "3GfykxS-YYsR",
        "outputId": "40654c6e-c1fd-4be7-df2b-fc4286be11f5"
      },
      "outputs": [
        {
          "name": "stdout",
          "output_type": "stream",
          "text": [
            "Move disk 1 from A to B\n",
            "Move disk 2 from A to C\n",
            "Move disk 1 from B to C\n"
          ]
        }
      ],
      "source": [
        "#Q5 Read about the Tower of Hanoi algorithm. Write a program to implement it\n",
        "def tower_of_hanoi(n, source, destination, auxiliary):\n",
        "    if n == 1:\n",
        "        print(\"Move disk 1 from {} to {}\".format(source, destination))\n",
        "        return\n",
        "    tower_of_hanoi(n-1, source, auxiliary, destination)\n",
        "    print(\"Move disk {} from {} to {}\".format(n, source, destination))\n",
        "    tower_of_hanoi(n-1, auxiliary, destination, source)\n",
        "\n",
        "n = int(input(\"Enter the number of disks: \"))\n",
        "tower_of_hanoi(n, 'A', 'C', 'B')\n"
      ]
    },
    {
      "cell_type": "code",
      "execution_count": null,
      "metadata": {
        "id": "Y1x9tWSmYYsU",
        "outputId": "1860856e-9208-4b25-f6aa-d7172ba2bc29"
      },
      "outputs": [
        {
          "name": "stdout",
          "output_type": "stream",
          "text": [
            "Prefix expression: +23\n"
          ]
        }
      ],
      "source": [
        "# Q6. Read about infix, prefix, and postfix expressions.\n",
        "# Write a program to convert postfix to prefix expression.\n",
        "def post_to_pre(postfix):\n",
        "    stack=[]\n",
        "    operators={'+',\"-\",'*',\"/\",\"^\"}\n",
        "    for token in postfix:\n",
        "        if token not in operators:\n",
        "            stack.append(token)\n",
        "        else:\n",
        "            operand2=stack.pop()\n",
        "            operand1=stack.pop()\n",
        "            prefix_expr=token+operand1+operand2\n",
        "            stack.append(prefix_expr)\n",
        "    return stack[-1]\n",
        "postfix= \" 23+\"\n",
        "prefix_expression =post_to_pre(postfix)\n",
        "print(\"Prefix expression:\", prefix_expression)\n"
      ]
    },
    {
      "cell_type": "code",
      "execution_count": null,
      "metadata": {
        "id": "o4hI1OpSYYsa",
        "outputId": "8a72b6d4-bbd8-4f7a-8132-90b1f2481dd6"
      },
      "outputs": [
        {
          "name": "stdout",
          "output_type": "stream",
          "text": [
            "Infix expression: ((A+B)*(C-D))\n"
          ]
        }
      ],
      "source": [
        "# Q7. Write a program to convert prefix expression to infix expression.\n",
        "def pre_to_infix(prefix):\n",
        "    stack=[]\n",
        "    operators={'+',\"-\",'*',\"/\",\"^\"}\n",
        "    for token in reversed(prefix):\n",
        "        if token not in operators:\n",
        "            stack.append(token)\n",
        "        else:\n",
        "            operand1=stack.pop()\n",
        "            operand2=stack.pop()\n",
        "            infix_expr=(\"(\" + operand1 + token + operand2 + \")\")\n",
        "            stack.append(infix_expr)\n",
        "    return stack[-1]\n",
        "prefix = '*+AB-CD'\n",
        "infix_expression =pre_to_infix(prefix)\n",
        "print(\"Infix expression:\", infix_expression)\n"
      ]
    },
    {
      "cell_type": "code",
      "execution_count": null,
      "metadata": {
        "id": "OBMclvoeYYsg",
        "outputId": "b6a7a685-f623-41cc-ad37-6fca8b440ab7"
      },
      "outputs": [
        {
          "name": "stdout",
          "output_type": "stream",
          "text": [
            "Some brackets are not closed.\n"
          ]
        }
      ],
      "source": [
        "# Q8. Write a program to check if all the brackets are closed in a given code snippet.\n",
        "def balanced(expr):\n",
        "    stack=[]\n",
        "    opening_brac=['(','[','{']\n",
        "    closing_brac=[')',']','}']\n",
        "    for char in expr:\n",
        "        if char in opening_brac:\n",
        "            stack.append(char)\n",
        "        elif char in closing_brac:\n",
        "            if not stack:\n",
        "                return False\n",
        "            top=stack.pop()\n",
        "            if opening_brac.index(top) != closing_brac.index(char):\n",
        "                return False\n",
        "    return not stack\n",
        "expr = input(\"Enter a code snippet: \")\n",
        "if balanced(expr):\n",
        "    print(\"All brackets are closed.\")\n",
        "else:\n",
        "    print(\"Some brackets are not closed.\")\n",
        "\n"
      ]
    },
    {
      "cell_type": "code",
      "execution_count": null,
      "metadata": {
        "id": "RzTLyDWXYYsm",
        "outputId": "9e411e51-a629-4dc0-c314-a2f0d9f4c437"
      },
      "outputs": [
        {
          "name": "stdout",
          "output_type": "stream",
          "text": [
            "Original stack: [1, 2, 3, 4, 5]\n",
            "Reversed stack: [5, 4, 3, 2, 1]\n"
          ]
        }
      ],
      "source": [
        "# Q9. Write a program to reverse a stack.\n",
        "def reverse(stack):\n",
        "    if not stack:\n",
        "        return\n",
        "    temp=stack.pop()\n",
        "    reverse(stack)\n",
        "    insert_at_bottom(stack,temp)\n",
        "\n",
        "def insert_at_bottom(stack,item):\n",
        "    if not stack:\n",
        "        stack.append(item)\n",
        "        return\n",
        "    temp=stack.pop()\n",
        "    insert_at_bottom(stack,item)\n",
        "    stack.append(temp)\n",
        "stack = [1, 2, 3, 4, 5]\n",
        "print(\"Original stack:\", stack)\n",
        "reverse(stack)\n",
        "print(\"Reversed stack:\", stack)"
      ]
    },
    {
      "cell_type": "code",
      "execution_count": null,
      "metadata": {
        "id": "YCtzVU7mYYsp",
        "outputId": "ba794f9d-5e25-4de7-d3da-68242b14c113"
      },
      "outputs": [
        {
          "name": "stdout",
          "output_type": "stream",
          "text": [
            "Stack: [6, 2, 8, 1, 10, 3]\n",
            "Smallest number in stack: 1\n"
          ]
        }
      ],
      "source": [
        "# Q10. Write a program to find the smallest number using a stack.\n",
        "def find_smallest(stack):\n",
        "    if not stack:\n",
        "        return\n",
        "    else:\n",
        "        min_num=stack.pop()\n",
        "    while stack:\n",
        "        num=stack.pop()\n",
        "        if num<min_num:\n",
        "            min_num=num\n",
        "    return min_num\n",
        "stack = [6, 2, 8, 1, 10, 3]\n",
        "print(\"Stack:\", stack)\n",
        "smallest_num = find_smallest(stack)\n",
        "print(\"Smallest number in stack:\", smallest_num)"
      ]
    }
  ],
  "metadata": {
    "kernelspec": {
      "display_name": "Python 3",
      "language": "python",
      "name": "python3"
    },
    "language_info": {
      "codemirror_mode": {
        "name": "ipython",
        "version": 3
      },
      "file_extension": ".py",
      "mimetype": "text/x-python",
      "name": "python",
      "nbconvert_exporter": "python",
      "pygments_lexer": "ipython3",
      "version": "3.10.5"
    },
    "orig_nbformat": 4,
    "colab": {
      "provenance": [],
      "include_colab_link": true
    }
  },
  "nbformat": 4,
  "nbformat_minor": 0
}